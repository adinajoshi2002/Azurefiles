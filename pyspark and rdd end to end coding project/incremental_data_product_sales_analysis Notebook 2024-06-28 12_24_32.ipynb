{
 "cells": [
  {
   "cell_type": "markdown",
   "metadata": {
    "application/vnd.databricks.v1+cell": {
     "cellMetadata": {},
     "inputWidgets": {},
     "nuid": "038e6fc5-75f3-4c10-a110-5bad61a8a9e6",
     "showTitle": false,
     "title": ""
    }
   },
   "source": [
    "###### creating mount point code"
   ]
  },
  {
   "cell_type": "code",
   "execution_count": 0,
   "metadata": {
    "application/vnd.databricks.v1+cell": {
     "cellMetadata": {
      "byteLimit": 2048000,
      "rowLimit": 10000
     },
     "inputWidgets": {},
     "nuid": "0cbec82c-5b7c-4eee-8cca-6397e781951a",
     "showTitle": false,
     "title": ""
    }
   },
   "outputs": [],
   "source": [
    "##mounting point code\n",
    "storageAccountName = \"databrickspratice\"\n",
    "storageAccountAccessKey = dbutils.secrets.get(scope='datalake_scope',key='DatalakeAccessKey')\n",
    "sasToken = dbutils.secrets.get(scope='datalake_scope',key='DatalakeSASToken')\n",
    "blobContainerName = \"incrementalload\"\n",
    "mountPoint = \"/mnt/databrickspratice/incremental_data/\"\n",
    "if not any(mount.mountPoint == mountPoint for mount in dbutils.fs.mounts()):\n",
    "  try:\n",
    "    dbutils.fs.mount(\n",
    "      source = \"wasbs://{}@{}.blob.core.windows.net\".format(blobContainerName, storageAccountName),\n",
    "      mount_point = mountPoint,\n",
    "      extra_configs = {'fs.azure.account.key.' + storageAccountName + '.blob.core.windows.net': storageAccountAccessKey}\n",
    "      #extra_configs = {'fs.azure.sas.' + blobContainerName + '.' + storageAccountName + '.blob.core.windows.net': sasToken}\n",
    "    )\n",
    "    print(\"mount succeeded!\")\n",
    "  except Exception as e:\n",
    "    print(\"mount exception\", e)"
   ]
  },
  {
   "cell_type": "markdown",
   "metadata": {
    "application/vnd.databricks.v1+cell": {
     "cellMetadata": {
      "byteLimit": 2048000,
      "rowLimit": 10000
     },
     "inputWidgets": {},
     "nuid": "ea50ba94-c013-408a-9273-666984a0ddff",
     "showTitle": false,
     "title": ""
    }
   },
   "source": [
    "######list secrets"
   ]
  },
  {
   "cell_type": "code",
   "execution_count": 0,
   "metadata": {
    "application/vnd.databricks.v1+cell": {
     "cellMetadata": {
      "byteLimit": 2048000,
      "rowLimit": 10000
     },
     "inputWidgets": {},
     "nuid": "91550aa2-e291-4f0e-ac1b-f6c3a8ed4050",
     "showTitle": false,
     "title": ""
    }
   },
   "outputs": [
    {
     "output_type": "display_data",
     "data": {
      "text/html": [
       "<div class = \"ansiout\">\n",
       "Provides utilities for leveraging secrets within notebooks.\n",
       "Databricks documentation for more info.\n",
       "    <h3></h3><b>get(scope: String, key: String): String</b> -> Gets the string representation of a secret value with scope and key<br /><b>getBytes(scope: String, key: String): byte[]</b> -> Gets the bytes representation of a secret value with scope and key<br /><b>list(scope: String): Seq</b> -> Lists secret metadata for secrets within a scope<br /><b>listScopes: Seq</b> -> Lists secret scopes<br /><br /></div>"
      ]
     },
     "metadata": {
      "application/vnd.databricks.v1+output": {
       "addedWidgets": {},
       "arguments": {},
       "data": "<div class = \"ansiout\">\nProvides utilities for leveraging secrets within notebooks.\nDatabricks documentation for more info.\n    <h3></h3><b>get(scope: String, key: String): String</b> -> Gets the string representation of a secret value with scope and key<br /><b>getBytes(scope: String, key: String): byte[]</b> -> Gets the bytes representation of a secret value with scope and key<br /><b>list(scope: String): Seq</b> -> Lists secret metadata for secrets within a scope<br /><b>listScopes: Seq</b> -> Lists secret scopes<br /><br /></div>",
       "datasetInfos": [],
       "metadata": {},
       "removedWidgets": [],
       "textData": null,
       "type": "htmlSandbox"
      }
     },
     "output_type": "display_data"
    },
    {
     "output_type": "stream",
     "name": "stdout",
     "output_type": "stream",
     "text": [
      "Out[2]: [SecretMetadata(key='databasepassword'),\n SecretMetadata(key='DatalakeAccessKey'),\n SecretMetadata(key='DatalakeSASToken'),\n SecretMetadata(key='datalakeServicePrinClientID'),\n SecretMetadata(key='datalakeServicePrinClientScrete'),\n SecretMetadata(key='datalakeServicePrinTenantID')]"
     ]
    }
   ],
   "source": [
    "dbutils.secrets.help()\n",
    "dbutils.secrets.listScopes()\n",
    "dbutils.secrets.list(scope='datalake_scope')"
   ]
  },
  {
   "cell_type": "markdown",
   "metadata": {
    "application/vnd.databricks.v1+cell": {
     "cellMetadata": {
      "byteLimit": 2048000,
      "rowLimit": 10000
     },
     "inputWidgets": {},
     "nuid": "13b367cc-dadd-4dc1-a4d1-6cb7419085d3",
     "showTitle": false,
     "title": ""
    }
   },
   "source": [
    "#####list mountpoints"
   ]
  },
  {
   "cell_type": "code",
   "execution_count": 0,
   "metadata": {
    "application/vnd.databricks.v1+cell": {
     "cellMetadata": {
      "byteLimit": 2048000,
      "rowLimit": 10000
     },
     "inputWidgets": {},
     "nuid": "3a834e09-65c7-42d9-8c59-6071d9f3b10b",
     "showTitle": false,
     "title": ""
    }
   },
   "outputs": [
    {
     "output_type": "display_data",
     "data": {
      "text/html": [
       "<style scoped>\n",
       "  .table-result-container {\n",
       "    max-height: 300px;\n",
       "    overflow: auto;\n",
       "  }\n",
       "  table, th, td {\n",
       "    border: 1px solid black;\n",
       "    border-collapse: collapse;\n",
       "  }\n",
       "  th, td {\n",
       "    padding: 5px;\n",
       "  }\n",
       "  th {\n",
       "    text-align: left;\n",
       "  }\n",
       "</style><div class='table-result-container'><table class='table-result'><thead style='background-color: white'><tr><th>mountPoint</th><th>source</th><th>encryptionType</th></tr></thead><tbody><tr><td>/databricks-datasets</td><td>databricks-datasets</td><td></td></tr><tr><td>/Volumes</td><td>UnityCatalogVolumes</td><td></td></tr><tr><td>/mnt/databrickspratice/raw</td><td>wasbs://raw@databrickspratice.blob.core.windows.net</td><td></td></tr><tr><td>/databricks/mlflow-tracking</td><td>databricks/mlflow-tracking</td><td></td></tr><tr><td>/databricks-results</td><td>databricks-results</td><td></td></tr><tr><td>/databricks/mlflow-registry</td><td>databricks/mlflow-registry</td><td></td></tr><tr><td>/mnt/databrickspratice/incremental_data/</td><td>wasbs://incrementalload@databrickspratice.blob.core.windows.net</td><td></td></tr><tr><td>/Volume</td><td>DbfsReserved</td><td></td></tr><tr><td>/volumes</td><td>DbfsReserved</td><td></td></tr><tr><td>/</td><td>DatabricksRoot</td><td></td></tr><tr><td>/volume</td><td>DbfsReserved</td><td></td></tr></tbody></table></div>"
      ]
     },
     "metadata": {
      "application/vnd.databricks.v1+output": {
       "addedWidgets": {},
       "aggData": [],
       "aggError": "",
       "aggOverflow": false,
       "aggSchema": [],
       "aggSeriesLimitReached": false,
       "aggType": "",
       "arguments": {},
       "columnCustomDisplayInfos": {},
       "data": [
        [
         "/databricks-datasets",
         "databricks-datasets",
         ""
        ],
        [
         "/Volumes",
         "UnityCatalogVolumes",
         ""
        ],
        [
         "/mnt/databrickspratice/raw",
         "wasbs://raw@databrickspratice.blob.core.windows.net",
         ""
        ],
        [
         "/databricks/mlflow-tracking",
         "databricks/mlflow-tracking",
         ""
        ],
        [
         "/databricks-results",
         "databricks-results",
         ""
        ],
        [
         "/databricks/mlflow-registry",
         "databricks/mlflow-registry",
         ""
        ],
        [
         "/mnt/databrickspratice/incremental_data/",
         "wasbs://incrementalload@databrickspratice.blob.core.windows.net",
         ""
        ],
        [
         "/Volume",
         "DbfsReserved",
         ""
        ],
        [
         "/volumes",
         "DbfsReserved",
         ""
        ],
        [
         "/",
         "DatabricksRoot",
         ""
        ],
        [
         "/volume",
         "DbfsReserved",
         ""
        ]
       ],
       "datasetInfos": [],
       "dbfsResultPath": null,
       "isJsonSchema": true,
       "metadata": {},
       "overflow": false,
       "plotOptions": {
        "customPlotOptions": {},
        "displayType": "table",
        "pivotAggregation": null,
        "pivotColumns": null,
        "xColumns": null,
        "yColumns": null
       },
       "removedWidgets": [],
       "schema": [
        {
         "metadata": "{}",
         "name": "mountPoint",
         "type": "\"string\""
        },
        {
         "metadata": "{}",
         "name": "source",
         "type": "\"string\""
        },
        {
         "metadata": "{}",
         "name": "encryptionType",
         "type": "\"string\""
        }
       ],
       "type": "table"
      }
     },
     "output_type": "display_data"
    },
    {
     "output_type": "display_data",
     "data": {
      "text/html": [
       "<style scoped>\n",
       "  .table-result-container {\n",
       "    max-height: 300px;\n",
       "    overflow: auto;\n",
       "  }\n",
       "  table, th, td {\n",
       "    border: 1px solid black;\n",
       "    border-collapse: collapse;\n",
       "  }\n",
       "  th, td {\n",
       "    padding: 5px;\n",
       "  }\n",
       "  th {\n",
       "    text-align: left;\n",
       "  }\n",
       "</style><div class='table-result-container'><table class='table-result'><thead style='background-color: white'><tr><th>path</th><th>name</th><th>size</th><th>modificationTime</th></tr></thead><tbody><tr><td>dbfs:/mnt/databrickspratice/incremental_data/raw_data/raw_customer_details/</td><td>raw_customer_details/</td><td>0</td><td>0</td></tr><tr><td>dbfs:/mnt/databrickspratice/incremental_data/raw_data/raw_order_details/</td><td>raw_order_details/</td><td>0</td><td>0</td></tr><tr><td>dbfs:/mnt/databrickspratice/incremental_data/raw_data/raw_order_detals/</td><td>raw_order_detals/</td><td>0</td><td>0</td></tr><tr><td>dbfs:/mnt/databrickspratice/incremental_data/raw_data/raw_product_details/</td><td>raw_product_details/</td><td>0</td><td>0</td></tr><tr><td>dbfs:/mnt/databrickspratice/incremental_data/raw_data/raw_saled_order_items/</td><td>raw_saled_order_items/</td><td>0</td><td>0</td></tr></tbody></table></div>"
      ]
     },
     "metadata": {
      "application/vnd.databricks.v1+output": {
       "addedWidgets": {},
       "aggData": [],
       "aggError": "",
       "aggOverflow": false,
       "aggSchema": [],
       "aggSeriesLimitReached": false,
       "aggType": "",
       "arguments": {},
       "columnCustomDisplayInfos": {},
       "data": [
        [
         "dbfs:/mnt/databrickspratice/incremental_data/raw_data/raw_customer_details/",
         "raw_customer_details/",
         0,
         0
        ],
        [
         "dbfs:/mnt/databrickspratice/incremental_data/raw_data/raw_order_details/",
         "raw_order_details/",
         0,
         0
        ],
        [
         "dbfs:/mnt/databrickspratice/incremental_data/raw_data/raw_order_detals/",
         "raw_order_detals/",
         0,
         0
        ],
        [
         "dbfs:/mnt/databrickspratice/incremental_data/raw_data/raw_product_details/",
         "raw_product_details/",
         0,
         0
        ],
        [
         "dbfs:/mnt/databrickspratice/incremental_data/raw_data/raw_saled_order_items/",
         "raw_saled_order_items/",
         0,
         0
        ]
       ],
       "datasetInfos": [],
       "dbfsResultPath": null,
       "isJsonSchema": true,
       "metadata": {},
       "overflow": false,
       "plotOptions": {
        "customPlotOptions": {},
        "displayType": "table",
        "pivotAggregation": null,
        "pivotColumns": null,
        "xColumns": null,
        "yColumns": null
       },
       "removedWidgets": [],
       "schema": [
        {
         "metadata": "{}",
         "name": "path",
         "type": "\"string\""
        },
        {
         "metadata": "{}",
         "name": "name",
         "type": "\"string\""
        },
        {
         "metadata": "{}",
         "name": "size",
         "type": "\"long\""
        },
        {
         "metadata": "{}",
         "name": "modificationTime",
         "type": "\"long\""
        }
       ],
       "type": "table"
      }
     },
     "output_type": "display_data"
    }
   ],
   "source": [
    "display(dbutils.fs.mounts())\n",
    "display(dbutils.fs.ls('/mnt/databrickspratice/incremental_data/raw_data'))"
   ]
  },
  {
   "cell_type": "markdown",
   "metadata": {
    "application/vnd.databricks.v1+cell": {
     "cellMetadata": {},
     "inputWidgets": {},
     "nuid": "1784262d-38a4-454e-91f1-f9efd5ec6acc",
     "showTitle": false,
     "title": ""
    }
   },
   "source": [
    "######fetch widget value,define file pattern"
   ]
  },
  {
   "cell_type": "code",
   "execution_count": 0,
   "metadata": {
    "application/vnd.databricks.v1+cell": {
     "cellMetadata": {
      "byteLimit": 2048000,
      "rowLimit": 10000
     },
     "inputWidgets": {},
     "nuid": "d940534a-ced6-405f-8000-e680d812ef7a",
     "showTitle": false,
     "title": ""
    }
   },
   "outputs": [
    {
     "output_type": "stream",
     "name": "stdout",
     "output_type": "stream",
     "text": [
      "\n"
     ]
    }
   ],
   "source": [
    "import re\n",
    "#dbutils.widgets.text('filename','')\n",
    "most_recent_file_name=dbutils.widgets.get('filename')\n",
    "print(most_recent_file_name)\n",
    "# Define regular expressions for different file types\n",
    "customer_file_pattern = re.compile(r\"^customer_details.*\")\n",
    "product_file_pattern = re.compile(r\"^product_details.*\")\n",
    "order_file_pattern = re.compile(r\"^order_details.*\")\n",
    "saled_order_file_pattern = re.compile(r\"^saled_order_items.*\")"
   ]
  },
  {
   "cell_type": "markdown",
   "metadata": {
    "application/vnd.databricks.v1+cell": {
     "cellMetadata": {},
     "inputWidgets": {},
     "nuid": "92e70c01-d158-4e19-bbf1-0efbb07747d7",
     "showTitle": false,
     "title": ""
    }
   },
   "source": [
    "######reading customers data"
   ]
  },
  {
   "cell_type": "code",
   "execution_count": 0,
   "metadata": {
    "application/vnd.databricks.v1+cell": {
     "cellMetadata": {
      "byteLimit": 2048000,
      "rowLimit": 10000
     },
     "inputWidgets": {},
     "nuid": "204410a7-3a6c-4e84-9e4b-2dd30c39e3b5",
     "showTitle": false,
     "title": ""
    }
   },
   "outputs": [
    {
     "output_type": "stream",
     "name": "stdout",
     "output_type": "stream",
     "text": [
      "Loading customer data from customer_details_2024-06-29T05:12:31.7351100Z.csv\nThe customer_DataFrame is not empty.\n11 11\nnew_id is equal to old_id\ncustomer data appended successfuly\n"
     ]
    }
   ],
   "source": [
    "from pyspark.sql.types import*\n",
    "from pyspark.sql.functions import *\n",
    "import re\n",
    "# Check the file type and read data accordingly\n",
    "if customer_file_pattern.match(most_recent_file_name):\n",
    "    print(f\"Loading customer data from {most_recent_file_name}\")\n",
    "    #filepath\n",
    "    most_recent_file_path=f'dbfs:/mnt/databrickspratice/incremental_data/customer_details/{most_recent_file_name}'\n",
    "    #reading new data\n",
    "    customer_schema = StructType([\n",
    "    StructField(\"customer_id\", IntegerType(), nullable=False),  # IDENTITY in SQL is handled differently in Spark\n",
    "    StructField(\"first_name\", StringType(), nullable=False),\n",
    "    StructField(\"last_name\", StringType(), nullable=False),\n",
    "    StructField(\"birth_date\", DateType(), nullable=True),\n",
    "    StructField(\"phone\", StringType(), nullable=True),\n",
    "    StructField(\"address\", StringType(), nullable=False),\n",
    "    StructField(\"city\", StringType(), nullable=False),\n",
    "    StructField(\"state\", StringType(), nullable=False),\n",
    "    StructField(\"points\", IntegerType(), nullable=False, metadata={\"default\": 0}),\n",
    "    StructField(\"timestamp\", TimestampType(), nullable=False, metadata={\"default\": \"CURRENT_TIMESTAMP\"})\n",
    "    ])\n",
    "    df_new = spark.read.format(\"csv\").schema(customer_schema).option(\"header\", \"true\").load(most_recent_file_path)\n",
    "    #checking dataframe is empty or not\n",
    "    if df_new.count() == 0:\n",
    "        print(\"The customer_DataFrame is empty.\")\n",
    "    else:\n",
    "        print(\"The customer_DataFrame is not empty.\")\n",
    "        c_raw_file_path='dbfs:/mnt/databrickspratice/incremental_data/raw_data/raw_customer_details/'\n",
    "\n",
    "        #reading old data\n",
    "        df_old=spark.read.format(\"parquet\").schema(customer_schema).option(\"header\", \"true\").load(c_raw_file_path)\n",
    "\n",
    "        #identifier to merge data\n",
    "        count=df_new.count()\n",
    "        new_id=df_new.agg(min(col('customer_id'))).collect()[0][0]\n",
    "        old_id=df_old.agg(max(col('customer_id'))).collect()[0][0]\n",
    "        print(new_id,old_id)\n",
    "        \n",
    "        if(new_id==old_id and count>0):\n",
    "            print('new_id is equal to old_id')\n",
    "            df_filter_nid_s=df_new.filter(col('customer_id')>int(old_id))\n",
    "            df_filter_nid_s.write.format('parquet').option('header',True).mode('append').save(c_raw_file_path)\n",
    "            print('customer data appended successfuly')\n",
    "\n",
    "        elif(new_id==(old_id+1) and count>0):\n",
    "            print('new_id is equal to old_id +1')\n",
    "            df_new.write.format('parquet').option('header',True).mode('append').save(c_raw_file_path)\n",
    "            print('customer data appended successfuly')\n",
    "\n",
    "        elif(new_id<old_id):\n",
    "            print('new_id is less than old_id')\n",
    "            df_filter_nid_s=df_new.filter(col('customer_id')>int(old_id))\n",
    "            df_filter_nid_s.write.format('parquet').option('header',True).mode('append').save(c_raw_file_path)\n",
    "            print('customer data appended successfuly')\n",
    "    \n",
    "else:\n",
    "    print('not customers_data to append')\n",
    "\n"
   ]
  },
  {
   "cell_type": "code",
   "execution_count": 0,
   "metadata": {
    "application/vnd.databricks.v1+cell": {
     "cellMetadata": {
      "byteLimit": 2048000,
      "rowLimit": 10000
     },
     "inputWidgets": {},
     "nuid": "448b91db-8719-4e5e-8642-3207b8d91160",
     "showTitle": false,
     "title": ""
    }
   },
   "outputs": [
    {
     "output_type": "display_data",
     "data": {
      "text/html": [
       "<style scoped>\n",
       "  .table-result-container {\n",
       "    max-height: 300px;\n",
       "    overflow: auto;\n",
       "  }\n",
       "  table, th, td {\n",
       "    border: 1px solid black;\n",
       "    border-collapse: collapse;\n",
       "  }\n",
       "  th, td {\n",
       "    padding: 5px;\n",
       "  }\n",
       "  th {\n",
       "    text-align: left;\n",
       "  }\n",
       "</style><div class='table-result-container'><table class='table-result'><thead style='background-color: white'><tr><th>customer_id</th><th>first_name</th><th>last_name</th><th>birth_date</th><th>phone</th><th>address</th><th>city</th><th>state</th><th>points</th><th>timestamp</th></tr></thead><tbody><tr><td>12</td><td>Noah</td><td>Johnson</td><td>1985-02-02</td><td>123-456-7891</td><td>101 Elm St</td><td>Denver</td><td>CO</td><td>600</td><td>2024-06-29T04:51:11.243+0000</td></tr><tr><td>13</td><td>Olivia</td><td>Williams</td><td>1990-03-03</td><td>123-456-7892</td><td>102 Elm St</td><td>Chicago</td><td>CO</td><td>700</td><td>2024-06-29T04:52:40.740+0000</td></tr><tr><td>14</td><td>Liam</td><td>Brown</td><td>1985-04-04</td><td>123-456-7893</td><td>103 Elm St</td><td>Denver</td><td>CO</td><td>800</td><td>2024-06-29T04:52:40.740+0000</td></tr></tbody></table></div>"
      ]
     },
     "metadata": {
      "application/vnd.databricks.v1+output": {
       "addedWidgets": {},
       "aggData": [],
       "aggError": "",
       "aggOverflow": false,
       "aggSchema": [],
       "aggSeriesLimitReached": false,
       "aggType": "",
       "arguments": {},
       "columnCustomDisplayInfos": {},
       "data": [
        [
         12,
         "Noah",
         "Johnson",
         "1985-02-02",
         "123-456-7891",
         "101 Elm St",
         "Denver",
         "CO",
         600,
         "2024-06-29T04:51:11.243+0000"
        ],
        [
         13,
         "Olivia",
         "Williams",
         "1990-03-03",
         "123-456-7892",
         "102 Elm St",
         "Chicago",
         "CO",
         700,
         "2024-06-29T04:52:40.740+0000"
        ],
        [
         14,
         "Liam",
         "Brown",
         "1985-04-04",
         "123-456-7893",
         "103 Elm St",
         "Denver",
         "CO",
         800,
         "2024-06-29T04:52:40.740+0000"
        ]
       ],
       "datasetInfos": [],
       "dbfsResultPath": null,
       "isJsonSchema": true,
       "metadata": {},
       "overflow": false,
       "plotOptions": {
        "customPlotOptions": {},
        "displayType": "table",
        "pivotAggregation": null,
        "pivotColumns": null,
        "xColumns": null,
        "yColumns": null
       },
       "removedWidgets": [],
       "schema": [
        {
         "metadata": "{}",
         "name": "customer_id",
         "type": "\"integer\""
        },
        {
         "metadata": "{}",
         "name": "first_name",
         "type": "\"string\""
        },
        {
         "metadata": "{}",
         "name": "last_name",
         "type": "\"string\""
        },
        {
         "metadata": "{}",
         "name": "birth_date",
         "type": "\"date\""
        },
        {
         "metadata": "{}",
         "name": "phone",
         "type": "\"string\""
        },
        {
         "metadata": "{}",
         "name": "address",
         "type": "\"string\""
        },
        {
         "metadata": "{}",
         "name": "city",
         "type": "\"string\""
        },
        {
         "metadata": "{}",
         "name": "state",
         "type": "\"string\""
        },
        {
         "metadata": "{\"default\":0}",
         "name": "points",
         "type": "\"integer\""
        },
        {
         "metadata": "{\"default\":\"CURRENT_TIMESTAMP\"}",
         "name": "timestamp",
         "type": "\"timestamp\""
        }
       ],
       "type": "table"
      }
     },
     "output_type": "display_data"
    }
   ],
   "source": [
    " display(df_filter_nid_s)"
   ]
  },
  {
   "cell_type": "markdown",
   "metadata": {
    "application/vnd.databricks.v1+cell": {
     "cellMetadata": {},
     "inputWidgets": {},
     "nuid": "b52e213e-c8c9-47e7-bd8c-0affe789bdc0",
     "showTitle": false,
     "title": ""
    }
   },
   "source": [
    "######reading products data"
   ]
  },
  {
   "cell_type": "code",
   "execution_count": 0,
   "metadata": {
    "application/vnd.databricks.v1+cell": {
     "cellMetadata": {
      "byteLimit": 2048000,
      "rowLimit": 10000
     },
     "inputWidgets": {},
     "nuid": "02d63ee3-38e0-4bd5-98b3-b776edd3cb34",
     "showTitle": false,
     "title": ""
    }
   },
   "outputs": [
    {
     "output_type": "stream",
     "name": "stdout",
     "output_type": "stream",
     "text": [
      "Loading product data from product_details_2024-06-29T05:12:58.3947727Z.csv\nThe customer_DataFrame is not empty.\n11 11\nnew_id is equal to old_id\nproduct data appended successfuly\n"
     ]
    }
   ],
   "source": [
    "\n",
    "# Check the file type and read data accordingly\n",
    "if product_file_pattern.match(most_recent_file_name):\n",
    "    print(f\"Loading product data from {most_recent_file_name}\")\n",
    "    #filepath\n",
    "    most_recent_file_path=f'dbfs:/mnt/databrickspratice/incremental_data/product_details/{most_recent_file_name}'\n",
    "    #reading new data\n",
    "    product_schema = StructType([\n",
    "    StructField(\"product_id\", IntegerType(), nullable=False),  # IDENTITY in SQL is handled differently in Spark\n",
    "    StructField(\"name\", StringType(), nullable=False),\n",
    "    StructField(\"quantity_in_stock\", IntegerType(), nullable=False),\n",
    "    StructField(\"unit_price\", DecimalType(4, 2), nullable=False),\n",
    "    StructField(\"timestamp\", TimestampType(), nullable=False, metadata={\"default\": \"CURRENT_TIMESTAMP\"})\n",
    "    ])\n",
    "    df_new = spark.read.format(\"csv\").schema(product_schema).option(\"header\", \"true\").load(most_recent_file_path)\n",
    "\n",
    "    #checking dataframe is empty or not\n",
    "    if df_new.count() == 0:\n",
    "        print(\"The customer_DataFrame is empty.\")\n",
    "    else:\n",
    "        print(\"The customer_DataFrame is not empty.\")\n",
    "        c_raw_file_path='dbfs:/mnt/databrickspratice/incremental_data/raw_data/raw_product_details/'\n",
    "\n",
    "        #reading old data\n",
    "        df_old=spark.read.format(\"parquet\").schema(product_schema).option(\"header\", \"true\").load(c_raw_file_path)\n",
    "\n",
    "        #identifier to merge data\n",
    "        count=df_new.count()\n",
    "        new_id=df_new.agg(min(col('product_id'))).collect()[0][0]\n",
    "        old_id=df_old.agg(max(col('product_id'))).collect()[0][0]\n",
    "        print(new_id,old_id)\n",
    "        \n",
    "        if(new_id==old_id):\n",
    "            print('new_id is equal to old_id')\n",
    "            df_filter_nid_s=df_new.filter(col('product_id')>int(old_id))\n",
    "            df_filter_nid_s.write.format('parquet').option('header',True).mode('append').save(c_raw_file_path)\n",
    "            print('product data appended successfuly')\n",
    "\n",
    "        elif(new_id==(old_id+1) and count>0):\n",
    "            print('new_id is equal to old_id+1')\n",
    "            df_new.write.format('parquet').option('header',True).mode('append').save(c_raw_file_path)\n",
    "            print('product data appended successfuly')\n",
    "\n",
    "        elif(new_id<old_id):\n",
    "            print('new_id is less than old_id')\n",
    "            df_filter_nid_s=df_new.filter(col('product_id')>int(old_id))\n",
    "            df_filter_nid_s.write.format('parquet').option('header',True).mode('append').save(c_raw_file_path)\n",
    "            print('product data appended successfuly')\n",
    "    \n",
    "else:\n",
    "    print('not product_data to append')\n",
    "\n",
    "\n"
   ]
  },
  {
   "cell_type": "markdown",
   "metadata": {
    "application/vnd.databricks.v1+cell": {
     "cellMetadata": {},
     "inputWidgets": {},
     "nuid": "be9b2952-457c-4638-972f-53b082b0783f",
     "showTitle": false,
     "title": ""
    }
   },
   "source": [
    "######reading order details"
   ]
  },
  {
   "cell_type": "code",
   "execution_count": 0,
   "metadata": {
    "application/vnd.databricks.v1+cell": {
     "cellMetadata": {
      "byteLimit": 2048000,
      "rowLimit": 10000
     },
     "inputWidgets": {},
     "nuid": "a4ee636c-6c47-4ecb-85b3-8c8ccbfae553",
     "showTitle": false,
     "title": ""
    }
   },
   "outputs": [
    {
     "output_type": "stream",
     "name": "stdout",
     "output_type": "stream",
     "text": [
      "Loading order data from order_details_2024-06-27T12:48:29.6079649Z.csv\ndbfs:/mnt/databrickspratice/incremental_data/order_details/order_details_2024-06-27T12:48:29.6079649Z.csv\nThe customer_DataFrame is not empty.\n1 11\nnew_id is less than old_id\norder data appended successfuly\n"
     ]
    }
   ],
   "source": [
    "# Check the file type and read data accordingly\n",
    "if order_file_pattern.match(most_recent_file_name):\n",
    "    print(f\"Loading order data from {most_recent_file_name}\")\n",
    "    #filepath\n",
    "    most_recent_file_path=f'dbfs:/mnt/databrickspratice/incremental_data/'\\\n",
    "    f'order_details/{most_recent_file_name}'\n",
    "    #reading new data\n",
    "    order_schema = StructType([\n",
    "    StructField(\"order_id\", IntegerType(), nullable=False),  # IDENTITY in SQL is handled differently in Spark\n",
    "    StructField(\"customer_id\", IntegerType(), nullable=False),\n",
    "    StructField(\"order_date\", DateType(), nullable=False),\n",
    "    StructField(\"status\", ShortType(), nullable=False),  # Tinyint maps to ShortType in Spark\n",
    "    StructField(\"comments\", StringType(), nullable=True),\n",
    "    StructField(\"shipped_date\", DateType(), nullable=True),\n",
    "    StructField(\"shipper_id\", ShortType(), nullable=True),\n",
    "    StructField(\"timestamp\", TimestampType(), nullable=False, metadata={\"default\": \"CURRENT_TIMESTAMP\"})\n",
    "    ])\n",
    "    df_new = spark.read.format(\"csv\").schema(order_schema).option(\"header\", \"true\").load(most_recent_file_path)\n",
    "\n",
    "    #checking dataframe is empty or not\n",
    "    if df_new.count() == 0:\n",
    "        print(\"The customer_DataFrame is empty.\")\n",
    "    else:\n",
    "        print(\"The customer_DataFrame is not empty.\")\n",
    "        c_raw_file_path='dbfs:/mnt/databrickspratice/incremental_data/raw_data/raw_order_details/'\n",
    "\n",
    "        #reading old data\n",
    "        df_old=spark.read.format(\"parquet\").schema(order_schema).option(\"header\", \"true\").load(c_raw_file_path)\n",
    "\n",
    "        #identifier to merge data\n",
    "        count=df_new.count()\n",
    "        new_id=df_new.agg(min(col('order_id'))).collect()[0][0]\n",
    "        old_id=df_old.agg(max(col('order_id'))).collect()[0][0]\n",
    "        print(new_id,old_id)\n",
    "\n",
    "        if(new_id==old_id):\n",
    "            print('new_id is equal to old_id')\n",
    "            df_filter_nid_s=df_new.filter(col('order_id')>int(old_id))\n",
    "            df_filter_nid_s.write.format('parquet').option('header',True).mode('append').save(c_raw_file_path)\n",
    "            print('order data appended successfuly')\n",
    "\n",
    "        elif(new_id==(old_id+1) and count>0):\n",
    "            print('new_id is equal to old_id+1')\n",
    "            df_new.write.format('parquet').option('header',True).mode('append').save(c_raw_file_path)\n",
    "            print('order data appended successfuly')\n",
    "\n",
    "        elif(new_id<old_id):\n",
    "            print('new_id is less than old_id')\n",
    "            df_filter_nid_s=df_new.filter(col('order_id')>int(old_id))\n",
    "            df_filter_nid_s.write.format('parquet').option('header',True).mode('append').save(c_raw_file_path)\n",
    "            print('order data appended successfuly')\n",
    "    \n",
    "else:\n",
    "    print('not order_data to append')\n",
    "\n",
    "\n"
   ]
  },
  {
   "cell_type": "markdown",
   "metadata": {
    "application/vnd.databricks.v1+cell": {
     "cellMetadata": {},
     "inputWidgets": {},
     "nuid": "316d90be-595a-4897-b64d-513e0f9e2daa",
     "showTitle": false,
     "title": ""
    }
   },
   "source": [
    "######reading saled order items data"
   ]
  },
  {
   "cell_type": "code",
   "execution_count": 0,
   "metadata": {
    "application/vnd.databricks.v1+cell": {
     "cellMetadata": {
      "byteLimit": 2048000,
      "rowLimit": 10000
     },
     "inputWidgets": {},
     "nuid": "f1c37458-5198-44ec-ba99-cc0cb4b1a91d",
     "showTitle": false,
     "title": ""
    }
   },
   "outputs": [
    {
     "output_type": "stream",
     "name": "stdout",
     "output_type": "stream",
     "text": [
      "Loading sales data from saled_order_items_2024-06-27T12:48:51.7875868Z.csv\nThe customer_DataFrame is not empty.\n1 10\nnew_id is less than old_id\nsaled_order_items data appended successfuly\n"
     ]
    }
   ],
   "source": [
    "import re\n",
    "# Check the file type and read data accordingly\n",
    "if saled_order_file_pattern.match(most_recent_file_name):\n",
    "    print(f\"Loading sales data from {most_recent_file_name}\")\n",
    "    #filepath\n",
    "    most_recent_file_path=f'dbfs:/mnt/databrickspratice/incremental_data/'\\\n",
    "    f'saled_order_items/{most_recent_file_name}'\n",
    "    #reading new data\n",
    "    saled_order_items_schema = StructType([\n",
    "    StructField(\"order_id\", IntegerType(), nullable=False),\n",
    "    StructField(\"product_id\", IntegerType(), nullable=False),\n",
    "    StructField(\"quantity\", IntegerType(), nullable=False),\n",
    "    StructField(\"unit_price\", DecimalType(6, 2), nullable=False),\n",
    "    StructField(\"timestamp\", TimestampType(), nullable=False, metadata={\"default\": \"CURRENT_TIMESTAMP\"})\n",
    "   ])\n",
    "    df_new = spark.read.format(\"csv\").schema(saled_order_items_schema).option(\"header\", \"true\").load(most_recent_file_path)\n",
    "\n",
    "    #checking dataframe is empty or not\n",
    "    if df_new.count() == 0:\n",
    "        print(\"The customer_DataFrame is empty.\")\n",
    "    else:\n",
    "        print(\"The customer_DataFrame is not empty.\")\n",
    "        c_raw_file_path='dbfs:/mnt/databrickspratice/incremental_data/raw_data/raw_saled_order_items/'\n",
    "\n",
    "        #reading old data\n",
    "        df_old=spark.read.format(\"parquet\").schema(saled_order_items_schema).option(\"header\", \"true\").load(c_raw_file_path)\n",
    "\n",
    "        #identifier to merge data\n",
    "        count=df_new.count()\n",
    "        new_id=df_new.agg(min(col('order_id'))).collect()[0][0]\n",
    "        old_id=df_old.agg(max(col('order_id'))).collect()[0][0]\n",
    "        print(new_id,old_id)\n",
    "        \n",
    "        if(new_id==old_id):\n",
    "            print('new_id is equql to old_id')\n",
    "            df_filter_nid_s=df_new.filter(col('order_id')>int(old_id))\n",
    "            df_filter_nid_s.write.format('parquet').option('header',True).mode('append').save(c_raw_file_path)\n",
    "\n",
    "        elif(new_id==(old_id+1) and count>0):\n",
    "            print('new_id is equal to old_id+1')\n",
    "            df_new.write.format('parquet').option('header',True).mode('append').save(c_raw_file_path)\n",
    "\n",
    "        elif(new_id<old_id):\n",
    "            print('new_id is less than old_id')\n",
    "            df_filter_nid_s=df_new.filter(col('order_id')>int(old_id))\n",
    "            df_filter_nid_s.write.format('parquet').option('header',True).mode('append').save(c_raw_file_path)\n",
    "    print('saled_order_items data appended successfuly')\n",
    "else:\n",
    "    print('not sales_order_items_data to append')\n",
    "\n",
    "\n"
   ]
  }
 ],
 "metadata": {
  "application/vnd.databricks.v1+notebook": {
   "dashboards": [],
   "environmentMetadata": null,
   "language": "python",
   "notebookMetadata": {
    "pythonIndentUnit": 4
   },
   "notebookName": "incremental_data_product_sales_analysis Notebook 2024-06-28 12:24:32",
   "widgets": {
    "filename": {
     "currentValue": "",
     "nuid": "1fc8bfd3-b5d6-4cb5-b849-28cda88e732b",
     "typedWidgetInfo": null,
     "widgetInfo": {
      "widgetType": "text",
      "defaultValue": "",
      "label": null,
      "name": "filename",
      "options": {
       "widgetType": "text",
       "autoCreated": null,
       "validationRegex": null
      }
     }
    }
   }
  }
 },
 "nbformat": 4,
 "nbformat_minor": 0
}
